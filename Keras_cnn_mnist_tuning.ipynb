{
  "nbformat": 4,
  "nbformat_minor": 0,
  "metadata": {
    "colab": {
      "name": "Keras-cnn-mnist-tuning.ipynb",
      "provenance": [],
      "authorship_tag": "ABX9TyPFIVLCAHb+t1PXw7YWITuL",
      "include_colab_link": true
    },
    "kernelspec": {
      "name": "python3",
      "display_name": "Python 3"
    },
    "accelerator": "GPU"
  },
  "cells": [
    {
      "cell_type": "markdown",
      "metadata": {
        "id": "view-in-github",
        "colab_type": "text"
      },
      "source": [
        "<a href=\"https://colab.research.google.com/github/George-Nyamao/Keras-cnn-mnist-tuning/blob/master/Keras_cnn_mnist_tuning.ipynb\" target=\"_parent\"><img src=\"https://colab.research.google.com/assets/colab-badge.svg\" alt=\"Open In Colab\"/></a>"
      ]
    },
    {
      "cell_type": "markdown",
      "metadata": {
        "id": "dbh5xIWOTFF-",
        "colab_type": "text"
      },
      "source": [
        "**MNIST Handwriting Using CNN and Keras**"
      ]
    },
    {
      "cell_type": "markdown",
      "metadata": {
        "id": "C4JknNgAT3lt",
        "colab_type": "text"
      },
      "source": [
        "We will use Keras on the MNIST handwriting data set, using a Convolutional Neural Network that is suited for image processing."
      ]
    },
    {
      "cell_type": "code",
      "metadata": {
        "id": "vTegJ3thTEdR",
        "colab_type": "code",
        "colab": {}
      },
      "source": [
        "import tensorflow\n",
        "from tensorflow.keras.datasets import mnist\n",
        "from tensorflow.keras.models import Sequential\n",
        "from tensorflow.keras.layers import Dense, Dropout, Conv2D, MaxPooling2D, Flatten\n",
        "from tensorflow.keras.optimizers import RMSprop"
      ],
      "execution_count": 0,
      "outputs": []
    },
    {
      "cell_type": "markdown",
      "metadata": {
        "id": "9SzowKcKVjlt",
        "colab_type": "text"
      },
      "source": [
        "Loading our raw data"
      ]
    },
    {
      "cell_type": "code",
      "metadata": {
        "id": "alIrpYJRBE3W",
        "colab_type": "code",
        "colab": {}
      },
      "source": [
        "(mnist_train_images, mnist_train_labels), (mnist_test_images, mnist_test_labels) = mnist.load_data()"
      ],
      "execution_count": 0,
      "outputs": []
    },
    {
      "cell_type": "markdown",
      "metadata": {
        "id": "JleXJH0-Wbd3",
        "colab_type": "text"
      },
      "source": [
        "Tha images are of 28x28 pixels,and therefore we need to shape them as 1x28x28 or 28x28x1, where the \"1\" indicates it's a single channel since the images are in grayscal. Color images would have had a \"3\" instead."
      ]
    },
    {
      "cell_type": "code",
      "metadata": {
        "id": "JuaUAjPQHuZS",
        "colab_type": "code",
        "colab": {}
      },
      "source": [
        "from tensorflow.keras import backend as k\n",
        "\n",
        "if k.image_data_format() == 'channels_first':\n",
        "    train_images = mnist_train_images.reshape(mnist_train_images.shape[0], 1, 28, 28)\n",
        "    test_images = mnist_test_images.reshape(mnist_test_images.shape[0], 1, 28, 28)\n",
        "    input_shape = (1, 28, 28)\n",
        "else:\n",
        "    train_images = mnist_train_images.reshape(mnist_train_images.shape[0], 28, 28, 1)\n",
        "    test_images = mnist_test_images.reshape(mnist_test_images.shape[0], 28, 28, 1)\n",
        "    input_shape = (28, 28, 1)"
      ],
      "execution_count": 0,
      "outputs": []
    },
    {
      "cell_type": "markdown",
      "metadata": {
        "id": "7Rd17tdSYfj_",
        "colab_type": "text"
      },
      "source": [
        "We then convert them to float and scale them between 0 and 1 by dividing by 255."
      ]
    },
    {
      "cell_type": "code",
      "metadata": {
        "id": "ZCGdYP9pJARH",
        "colab_type": "code",
        "colab": {}
      },
      "source": [
        "train_images = train_images.astype('float32')\n",
        "test_images = test_images.astype('float32')\n",
        "\n",
        "train_images /= 255\n",
        "test_images /= 255"
      ],
      "execution_count": 0,
      "outputs": []
    },
    {
      "cell_type": "markdown",
      "metadata": {
        "id": "iovl5o4yY_xO",
        "colab_type": "text"
      },
      "source": [
        "We then convert our train and test labels to categorical in one-hot format."
      ]
    },
    {
      "cell_type": "code",
      "metadata": {
        "id": "jZ5frhS3JEQe",
        "colab_type": "code",
        "colab": {}
      },
      "source": [
        "train_labels = tensorflow.keras.utils.to_categorical(mnist_train_labels, 10)\n",
        "test_labels = tensorflow.keras.utils.to_categorical(mnist_test_labels, 10)"
      ],
      "execution_count": 0,
      "outputs": []
    },
    {
      "cell_type": "markdown",
      "metadata": {
        "id": "Hcw7WUAEZ2xX",
        "colab_type": "text"
      },
      "source": [
        "Print out one sample"
      ]
    },
    {
      "cell_type": "code",
      "metadata": {
        "id": "TWjgU5k_JOc3",
        "colab_type": "code",
        "colab": {
          "base_uri": "https://localhost:8080/",
          "height": 298
        },
        "outputId": "c25ec30b-cf27-44e0-de9b-3a4ddc2615c7"
      },
      "source": [
        "%matplotlib inline\n",
        "import matplotlib.pyplot as plt\n",
        "\n",
        "def display_sample(num):\n",
        "    #Print the one-hot array of this sample's label \n",
        "    print(train_labels[num])  \n",
        "    #Print the label converted back to a number\n",
        "    label = train_labels[num].argmax(axis=0)\n",
        "    #Reshape the 768 values to a 28x28 image\n",
        "    image = train_images[num].reshape([28,28])\n",
        "    plt.title('Sample: %d  Label: %d' % (num, label))\n",
        "    plt.imshow(image, cmap=plt.get_cmap('gray_r'))\n",
        "    plt.show()\n",
        "    \n",
        "display_sample(1234)"
      ],
      "execution_count": 6,
      "outputs": [
        {
          "output_type": "stream",
          "text": [
            "[0. 0. 0. 1. 0. 0. 0. 0. 0. 0.]\n"
          ],
          "name": "stdout"
        },
        {
          "output_type": "display_data",
          "data": {
            "image/png": "[encoded data removed]",
            "text/plain": [
              "<Figure size 432x288 with 1 Axes>"
            ]
          },
          "metadata": {
            "tags": [],
            "needs_background": "light"
          }
        }
      ]
    },
    {
      "cell_type": "markdown",
      "metadata": {
        "id": "UH4knIcQaPt2",
        "colab_type": "text"
      },
      "source": [
        "**Model 1**"
      ]
    },
    {
      "cell_type": "markdown",
      "metadata": {
        "id": "c9Xa9NcybKFW",
        "colab_type": "text"
      },
      "source": [
        "Our first model will have two Conv2D layers, one MaxPooling2D layer, a Flatten and then two Dense layers. We will use a batch size of 32."
      ]
    },
    {
      "cell_type": "code",
      "metadata": {
        "id": "kGYOjMTQbACa",
        "colab_type": "code",
        "colab": {}
      },
      "source": [
        "model = Sequential()\n",
        "model.add(Conv2D(32, kernel_size=(3, 3),\n",
        "                 activation='relu',\n",
        "                 input_shape=input_shape))\n",
        "model.add(Conv2D(64, (3, 3), activation='relu'))\n",
        "model.add(MaxPooling2D(pool_size=(2, 2)))\n",
        "model.add(Flatten())\n",
        "model.add(Dense(128, activation='relu'))\n",
        "model.add(Dense(10, activation='softmax'))"
      ],
      "execution_count": 0,
      "outputs": []
    },
    {
      "cell_type": "code",
      "metadata": {
        "id": "wXecc0V7cE1E",
        "colab_type": "code",
        "colab": {
          "base_uri": "https://localhost:8080/",
          "height": 353
        },
        "outputId": "4d521c86-9adb-4036-e833-41d3f8eec266"
      },
      "source": [
        "model.summary()"
      ],
      "execution_count": 8,
      "outputs": [
        {
          "output_type": "stream",
          "text": [
            "Model: \"sequential\"\n",
            "_________________________________________________________________\n",
            "Layer (type)                 Output Shape              Param #   \n",
            "=================================================================\n",
            "conv2d (Conv2D)              (None, 26, 26, 32)        320       \n",
            "_________________________________________________________________\n",
            "conv2d_1 (Conv2D)            (None, 24, 24, 64)        18496     \n",
            "_________________________________________________________________\n",
            "max_pooling2d (MaxPooling2D) (None, 12, 12, 64)        0         \n",
            "_________________________________________________________________\n",
            "flatten (Flatten)            (None, 9216)              0         \n",
            "_________________________________________________________________\n",
            "dense (Dense)                (None, 128)               1179776   \n",
            "_________________________________________________________________\n",
            "dense_1 (Dense)              (None, 10)                1290      \n",
            "=================================================================\n",
            "Total params: 1,199,882\n",
            "Trainable params: 1,199,882\n",
            "Non-trainable params: 0\n",
            "_________________________________________________________________\n"
          ],
          "name": "stdout"
        }
      ]
    },
    {
      "cell_type": "code",
      "metadata": {
        "id": "s7pu2PijcdS7",
        "colab_type": "code",
        "colab": {}
      },
      "source": [
        "# Compile the model\n",
        "model.compile(loss='categorical_crossentropy',\n",
        "              optimizer='adam',\n",
        "              metrics=['accuracy'])"
      ],
      "execution_count": 0,
      "outputs": []
    },
    {
      "cell_type": "code",
      "metadata": {
        "id": "CimiWXbocoB6",
        "colab_type": "code",
        "colab": {
          "base_uri": "https://localhost:8080/",
          "height": 353
        },
        "outputId": "dc4acbd8-515e-4e69-e9a5-4491e6f5fa04"
      },
      "source": [
        "# Train the model\n",
        "history = model.fit(train_images, train_labels,\n",
        "                    batch_size=32,\n",
        "                    epochs=10,\n",
        "                    verbose=2,\n",
        "                    validation_data=(test_images, test_labels))"
      ],
      "execution_count": 10,
      "outputs": [
        {
          "output_type": "stream",
          "text": [
            "Epoch 1/10\n",
            "1875/1875 - 7s - loss: 0.1095 - accuracy: 0.9668 - val_loss: 0.0540 - val_accuracy: 0.9823\n",
            "Epoch 2/10\n",
            "1875/1875 - 6s - loss: 0.0356 - accuracy: 0.9892 - val_loss: 0.0382 - val_accuracy: 0.9887\n",
            "Epoch 3/10\n",
            "1875/1875 - 6s - loss: 0.0200 - accuracy: 0.9937 - val_loss: 0.0364 - val_accuracy: 0.9885\n",
            "Epoch 4/10\n",
            "1875/1875 - 6s - loss: 0.0154 - accuracy: 0.9949 - val_loss: 0.0384 - val_accuracy: 0.9890\n",
            "Epoch 5/10\n",
            "1875/1875 - 6s - loss: 0.0107 - accuracy: 0.9963 - val_loss: 0.0362 - val_accuracy: 0.9908\n",
            "Epoch 6/10\n",
            "1875/1875 - 6s - loss: 0.0075 - accuracy: 0.9974 - val_loss: 0.0598 - val_accuracy: 0.9864\n",
            "Epoch 7/10\n",
            "1875/1875 - 6s - loss: 0.0064 - accuracy: 0.9977 - val_loss: 0.0472 - val_accuracy: 0.9883\n",
            "Epoch 8/10\n",
            "1875/1875 - 6s - loss: 0.0057 - accuracy: 0.9982 - val_loss: 0.0381 - val_accuracy: 0.9913\n",
            "Epoch 9/10\n",
            "1875/1875 - 6s - loss: 0.0037 - accuracy: 0.9987 - val_loss: 0.0684 - val_accuracy: 0.9870\n",
            "Epoch 10/10\n",
            "1875/1875 - 6s - loss: 0.0054 - accuracy: 0.9983 - val_loss: 0.0733 - val_accuracy: 0.9875\n"
          ],
          "name": "stdout"
        }
      ]
    },
    {
      "cell_type": "markdown",
      "metadata": {
        "id": "hMTmUoJWdWt-",
        "colab_type": "text"
      },
      "source": [
        "Our model started overfitting very early when the validation accuracy exceeded the training accuracy. The validation accuracy maxed out at 99.07% after a couple of epochs, while the training set kept on increasing."
      ]
    },
    {
      "cell_type": "markdown",
      "metadata": {
        "colab_type": "text",
        "id": "oTO-1swhjDfX"
      },
      "source": [
        "**Model 2: Dropout**"
      ]
    },
    {
      "cell_type": "markdown",
      "metadata": {
        "id": "NxXqD366eQGP",
        "colab_type": "text"
      },
      "source": [
        "To prevent overfitting we introduce regularization. First we introduce Dropout layers in the next model and see how we do."
      ]
    },
    {
      "cell_type": "code",
      "metadata": {
        "id": "0OcFDBmfczFZ",
        "colab_type": "code",
        "colab": {}
      },
      "source": [
        "# We put the model in a function we can call easily\n",
        "\n",
        "def MakeModel():\n",
        "    model = Sequential()\n",
        "    model.add(Conv2D(32, kernel_size=(3, 3),\n",
        "                     activation='relu',\n",
        "                     input_shape=input_shape))\n",
        "    model.add(Conv2D(64, (3, 3), activation='relu'))\n",
        "    model.add(MaxPooling2D(pool_size=(2, 2)))\n",
        "    model.add(Dropout(0.25))\n",
        "    model.add(Flatten())\n",
        "    model.add(Dense(128, activation='relu'))\n",
        "    model.add(Dropout(0.5))\n",
        "    model.add(Dense(10, activation='softmax'))\n",
        "    return model\n",
        "\n",
        "model = MakeModel()"
      ],
      "execution_count": 0,
      "outputs": []
    },
    {
      "cell_type": "code",
      "metadata": {
        "id": "0o5ONw5KfT9m",
        "colab_type": "code",
        "colab": {}
      },
      "source": [
        "# Compose the model\n",
        "model.compile(loss='categorical_crossentropy',\n",
        "              optimizer='adam',\n",
        "              metrics=['accuracy'])"
      ],
      "execution_count": 0,
      "outputs": []
    },
    {
      "cell_type": "code",
      "metadata": {
        "id": "_-iYwWpaferj",
        "colab_type": "code",
        "colab": {
          "base_uri": "https://localhost:8080/",
          "height": 353
        },
        "outputId": "9b92a983-b3fa-404b-a8b3-22c21aeeea5a"
      },
      "source": [
        "# Train the model\n",
        "history = model.fit(train_images, train_labels,\n",
        "                    batch_size=32,\n",
        "                    epochs=10,\n",
        "                    verbose=2,\n",
        "                    validation_data=(test_images, test_labels))"
      ],
      "execution_count": 13,
      "outputs": [
        {
          "output_type": "stream",
          "text": [
            "Epoch 1/10\n",
            "1875/1875 - 7s - loss: 0.1900 - accuracy: 0.9420 - val_loss: 0.0444 - val_accuracy: 0.9855\n",
            "Epoch 2/10\n",
            "1875/1875 - 7s - loss: 0.0773 - accuracy: 0.9769 - val_loss: 0.0357 - val_accuracy: 0.9882\n",
            "Epoch 3/10\n",
            "1875/1875 - 7s - loss: 0.0582 - accuracy: 0.9823 - val_loss: 0.0330 - val_accuracy: 0.9894\n",
            "Epoch 4/10\n",
            "1875/1875 - 7s - loss: 0.0497 - accuracy: 0.9847 - val_loss: 0.0299 - val_accuracy: 0.9903\n",
            "Epoch 5/10\n",
            "1875/1875 - 7s - loss: 0.0414 - accuracy: 0.9869 - val_loss: 0.0264 - val_accuracy: 0.9906\n",
            "Epoch 6/10\n",
            "1875/1875 - 7s - loss: 0.0348 - accuracy: 0.9895 - val_loss: 0.0309 - val_accuracy: 0.9906\n",
            "Epoch 7/10\n",
            "1875/1875 - 7s - loss: 0.0297 - accuracy: 0.9902 - val_loss: 0.0284 - val_accuracy: 0.9912\n",
            "Epoch 8/10\n",
            "1875/1875 - 7s - loss: 0.0300 - accuracy: 0.9908 - val_loss: 0.0258 - val_accuracy: 0.9917\n",
            "Epoch 9/10\n",
            "1875/1875 - 7s - loss: 0.0253 - accuracy: 0.9917 - val_loss: 0.0245 - val_accuracy: 0.9929\n",
            "Epoch 10/10\n",
            "1875/1875 - 7s - loss: 0.0222 - accuracy: 0.9926 - val_loss: 0.0322 - val_accuracy: 0.9915\n"
          ],
          "name": "stdout"
        }
      ]
    },
    {
      "cell_type": "markdown",
      "metadata": {
        "id": "AmeY7QWWgEqQ",
        "colab_type": "text"
      },
      "source": [
        "The model has greatly improved, with both the train and validation accuracy at 99.2%. But as we can see, there is a little bit of overfitting.\n",
        "\n",
        "We will try a different batch size of 1000."
      ]
    },
    {
      "cell_type": "markdown",
      "metadata": {
        "id": "gsGD4oMcim1g",
        "colab_type": "text"
      },
      "source": [
        "**Model 3: Batch Size**"
      ]
    },
    {
      "cell_type": "code",
      "metadata": {
        "id": "OXtui4QDfnQZ",
        "colab_type": "code",
        "colab": {
          "base_uri": "https://localhost:8080/",
          "height": 353
        },
        "outputId": "a70659cd-a00d-4c65-cc0d-6e27a09206df"
      },
      "source": [
        "model = MakeModel()\n",
        "\n",
        "model.compile(loss='categorical_crossentropy',\n",
        "              optimizer='adam',\n",
        "              metrics=['accuracy'])\n",
        "\n",
        "# Batch size of 1000\n",
        "history = model.fit(train_images, train_labels,\n",
        "                    batch_size=1000,\n",
        "                    epochs=10,\n",
        "                    verbose=2,\n",
        "                    validation_data=(test_images, test_labels))"
      ],
      "execution_count": 14,
      "outputs": [
        {
          "output_type": "stream",
          "text": [
            "Epoch 1/10\n",
            "60/60 - 2s - loss: 0.5381 - accuracy: 0.8383 - val_loss: 0.1324 - val_accuracy: 0.9598\n",
            "Epoch 2/10\n",
            "60/60 - 2s - loss: 0.1531 - accuracy: 0.9550 - val_loss: 0.0650 - val_accuracy: 0.9797\n",
            "Epoch 3/10\n",
            "60/60 - 2s - loss: 0.1000 - accuracy: 0.9704 - val_loss: 0.0489 - val_accuracy: 0.9849\n",
            "Epoch 4/10\n",
            "60/60 - 2s - loss: 0.0771 - accuracy: 0.9774 - val_loss: 0.0394 - val_accuracy: 0.9858\n",
            "Epoch 5/10\n",
            "60/60 - 2s - loss: 0.0650 - accuracy: 0.9809 - val_loss: 0.0360 - val_accuracy: 0.9877\n",
            "Epoch 6/10\n",
            "60/60 - 2s - loss: 0.0554 - accuracy: 0.9833 - val_loss: 0.0352 - val_accuracy: 0.9882\n",
            "Epoch 7/10\n",
            "60/60 - 2s - loss: 0.0502 - accuracy: 0.9845 - val_loss: 0.0312 - val_accuracy: 0.9892\n",
            "Epoch 8/10\n",
            "60/60 - 2s - loss: 0.0456 - accuracy: 0.9864 - val_loss: 0.0310 - val_accuracy: 0.9904\n",
            "Epoch 9/10\n",
            "60/60 - 2s - loss: 0.0405 - accuracy: 0.9870 - val_loss: 0.0290 - val_accuracy: 0.9902\n",
            "Epoch 10/10\n",
            "60/60 - 2s - loss: 0.0370 - accuracy: 0.9889 - val_loss: 0.0294 - val_accuracy: 0.9897\n"
          ],
          "name": "stdout"
        }
      ]
    },
    {
      "cell_type": "markdown",
      "metadata": {
        "id": "JaJ5F6dLhYYW",
        "colab_type": "text"
      },
      "source": [
        "While the validation accuracy does better than the training accuracy, the model did poorly compared to the last one. A large batch_size tends to get stuck in \"local minima\", therefore converging on the wrong solution.\n",
        "\n",
        "We will now try a different learning rate of 0.01 for our Adam optimizer instead of the default one of 0.001."
      ]
    },
    {
      "cell_type": "markdown",
      "metadata": {
        "id": "y05lOqctjkrt",
        "colab_type": "text"
      },
      "source": [
        "**Model 4: Learning Rate**"
      ]
    },
    {
      "cell_type": "code",
      "metadata": {
        "id": "AnYhFYr_hFQ1",
        "colab_type": "code",
        "colab": {}
      },
      "source": [
        "model = MakeModel()\n",
        "\n",
        "model.compile(loss='categorical_crossentropy',\n",
        "              optimizer='adam',\n",
        "              metrics=['accuracy'])\n",
        "\n",
        "# Change learning rate\n",
        "adam = tensorflow.keras.optimizers.Adam(learning_rate=0.01)\n",
        "\n",
        "model.compile(loss='categorical_crossentropy',\n",
        "              optimizer=adam,\n",
        "              metrics=['accuracy'])"
      ],
      "execution_count": 0,
      "outputs": []
    },
    {
      "cell_type": "code",
      "metadata": {
        "id": "evwXerOwj7sk",
        "colab_type": "code",
        "colab": {
          "base_uri": "https://localhost:8080/",
          "height": 353
        },
        "outputId": "cf593d01-fcdb-423b-abc2-816b843ae694"
      },
      "source": [
        "# Train the model\n",
        "history = model.fit(train_images, train_labels,\n",
        "                    batch_size=32,\n",
        "                    epochs=10,\n",
        "                    verbose=2,\n",
        "                    validation_data=(test_images, test_labels))"
      ],
      "execution_count": 16,
      "outputs": [
        {
          "output_type": "stream",
          "text": [
            "Epoch 1/10\n",
            "1875/1875 - 7s - loss: 0.4345 - accuracy: 0.8666 - val_loss: 0.1295 - val_accuracy: 0.9593\n",
            "Epoch 2/10\n",
            "1875/1875 - 7s - loss: 0.2950 - accuracy: 0.9109 - val_loss: 0.1173 - val_accuracy: 0.9641\n",
            "Epoch 3/10\n",
            "1875/1875 - 7s - loss: 0.2845 - accuracy: 0.9146 - val_loss: 0.1241 - val_accuracy: 0.9635\n",
            "Epoch 4/10\n",
            "1875/1875 - 7s - loss: 0.2742 - accuracy: 0.9170 - val_loss: 0.1145 - val_accuracy: 0.9655\n",
            "Epoch 5/10\n",
            "1875/1875 - 7s - loss: 0.2625 - accuracy: 0.9212 - val_loss: 0.0997 - val_accuracy: 0.9693\n",
            "Epoch 6/10\n",
            "1875/1875 - 7s - loss: 0.2847 - accuracy: 0.9159 - val_loss: 0.1193 - val_accuracy: 0.9646\n",
            "Epoch 7/10\n",
            "1875/1875 - 7s - loss: 0.2665 - accuracy: 0.9199 - val_loss: 0.1187 - val_accuracy: 0.9645\n",
            "Epoch 8/10\n",
            "1875/1875 - 7s - loss: 0.2646 - accuracy: 0.9208 - val_loss: 0.1293 - val_accuracy: 0.9620\n",
            "Epoch 9/10\n",
            "1875/1875 - 7s - loss: 0.2598 - accuracy: 0.9224 - val_loss: 0.1332 - val_accuracy: 0.9627\n",
            "Epoch 10/10\n",
            "1875/1875 - 7s - loss: 0.2569 - accuracy: 0.9227 - val_loss: 0.1095 - val_accuracy: 0.9660\n"
          ],
          "name": "stdout"
        }
      ]
    },
    {
      "cell_type": "markdown",
      "metadata": {
        "id": "L8uKOE73kz9p",
        "colab_type": "text"
      },
      "source": [
        "Not quite what we were aiming for, but at least we know that a higher learning rate is worse for this model."
      ]
    },
    {
      "cell_type": "markdown",
      "metadata": {
        "id": "Q5EYZ7OclJju",
        "colab_type": "text"
      },
      "source": [
        "**Conclusion**"
      ]
    },
    {
      "cell_type": "markdown",
      "metadata": {
        "id": "4093tSBtlUWX",
        "colab_type": "text"
      },
      "source": [
        "\n",
        "\n",
        "*   Dropout layers improved our model significantly by preventing overfitting\n",
        "*   A smaller batch size is better than a large batch size because it can easily wiggle out of a local minima to converge on the global minima.\n",
        "*   A smaller learning rate is better for our model.\n",
        "*   These hyperparameters can be tuned further to get the optimum result.\n",
        "\n",
        "\n",
        "\n",
        "\n",
        "\n"
      ]
    }
  ]
}